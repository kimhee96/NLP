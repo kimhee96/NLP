{
  "nbformat": 4,
  "nbformat_minor": 0,
  "metadata": {
    "colab": {
      "name": "business_goal_tfidf_0803",
      "provenance": [],
      "mount_file_id": "12CGA4evs9vN-45TqR0ederqzOa1KLzDs",
      "authorship_tag": "ABX9TyPuVJqECofDgoM25RakFTTj",
      "include_colab_link": true
    },
    "kernelspec": {
      "name": "python3",
      "display_name": "Python 3"
    },
    "accelerator": "GPU"
  },
  "cells": [
    {
      "cell_type": "markdown",
      "metadata": {
        "id": "view-in-github",
        "colab_type": "text"
      },
      "source": [
        "<a href=\"https://colab.research.google.com/github/kimhee96/NLP/blob/master/business_goal_tfidf_0803.ipynb\" target=\"_parent\"><img src=\"https://colab.research.google.com/assets/colab-badge.svg\" alt=\"Open In Colab\"/></a>"
      ]
    },
    {
      "cell_type": "code",
      "metadata": {
        "id": "YulOpoRWYFgb",
        "colab_type": "code",
        "colab": {
          "base_uri": "https://localhost:8080/",
          "height": 122
        },
        "outputId": "22dcd88a-e200-4e84-a3a7-865bebda5578"
      },
      "source": [
        "from google.colab import auth\n",
        "auth.authenticate_user()\n",
        "\n",
        "from google.colab import drive\n",
        "drive.mount('/content/gdrive')"
      ],
      "execution_count": 16,
      "outputs": [
        {
          "output_type": "stream",
          "text": [
            "Go to this URL in a browser: https://accounts.google.com/o/oauth2/auth?client_id=947318989803-6bn6qk8qdgf4n4g3pfee6491hc0brc4i.apps.googleusercontent.com&redirect_uri=urn%3aietf%3awg%3aoauth%3a2.0%3aoob&response_type=code&scope=email%20https%3a%2f%2fwww.googleapis.com%2fauth%2fdocs.test%20https%3a%2f%2fwww.googleapis.com%2fauth%2fdrive%20https%3a%2f%2fwww.googleapis.com%2fauth%2fdrive.photos.readonly%20https%3a%2f%2fwww.googleapis.com%2fauth%2fpeopleapi.readonly\n",
            "\n",
            "Enter your authorization code:\n",
            "··········\n",
            "Mounted at /content/gdrive\n"
          ],
          "name": "stdout"
        }
      ]
    },
    {
      "cell_type": "code",
      "metadata": {
        "id": "Dy7XrdaB_ebM",
        "colab_type": "code",
        "colab": {}
      },
      "source": [
        ""
      ],
      "execution_count": null,
      "outputs": []
    },
    {
      "cell_type": "code",
      "metadata": {
        "id": "wefL1b_Y6zrU",
        "colab_type": "code",
        "colab": {}
      },
      "source": [
        "import pandas as pd\n",
        "import numpy as np\n",
        "from sklearn.model_selection import train_test_split\n",
        "from sklearn.feature_extraction.text import TfidfVectorizer\n",
        "import os\n",
        "import pickle"
      ],
      "execution_count": 17,
      "outputs": []
    },
    {
      "cell_type": "code",
      "metadata": {
        "id": "nXF79alXkrSu",
        "colab_type": "code",
        "colab": {}
      },
      "source": [
        "#Data Load\n",
        "\n",
        "data_path = os.path.join(os.getcwd(), 'drive','My Drive','business_goal')\n",
        "tr = pd.read_csv(os.path.join(data_path,'train.csv'))\n",
        "te = pd.read_csv(os.path.join(data_path,'test.csv'))"
      ],
      "execution_count": 19,
      "outputs": []
    },
    {
      "cell_type": "code",
      "metadata": {
        "id": "nNoh0uiM72-O",
        "colab_type": "code",
        "colab": {
          "base_uri": "https://localhost:8080/",
          "height": 459
        },
        "outputId": "553393c3-2b87-4294-8359-90d4a80e1c6c"
      },
      "source": [
        "tr.head()"
      ],
      "execution_count": 26,
      "outputs": [
        {
          "output_type": "execute_result",
          "data": {
            "text/html": [
              "<div>\n",
              "<style scoped>\n",
              "    .dataframe tbody tr th:only-of-type {\n",
              "        vertical-align: middle;\n",
              "    }\n",
              "\n",
              "    .dataframe tbody tr th {\n",
              "        vertical-align: top;\n",
              "    }\n",
              "\n",
              "    .dataframe thead th {\n",
              "        text-align: right;\n",
              "    }\n",
              "</style>\n",
              "<table border=\"1\" class=\"dataframe\">\n",
              "  <thead>\n",
              "    <tr style=\"text-align: right;\">\n",
              "      <th></th>\n",
              "      <th>X</th>\n",
              "      <th>regist_num</th>\n",
              "      <th>class_code</th>\n",
              "      <th>business_goal</th>\n",
              "      <th>Description</th>\n",
              "      <th>Category</th>\n",
              "    </tr>\n",
              "  </thead>\n",
              "  <tbody>\n",
              "    <tr>\n",
              "      <th>0</th>\n",
              "      <td>68</td>\n",
              "      <td>668</td>\n",
              "      <td>1101111847031</td>\n",
              "      <td>A01110</td>\n",
              "      <td>농 수 축산물 제조 가공 및 판매업 단체급식 및 써비스업 캐터링사업잔체급식 사업 농...</td>\n",
              "      <td>A</td>\n",
              "    </tr>\n",
              "    <tr>\n",
              "      <th>1</th>\n",
              "      <td>2758</td>\n",
              "      <td>38477</td>\n",
              "      <td>1101112188913</td>\n",
              "      <td>A01110</td>\n",
              "      <td>영농업 골재 채취업 도 소매 써비스업 군납업 기동단 공원묘지 및 공원 단지 조성업 ...</td>\n",
              "      <td>A</td>\n",
              "    </tr>\n",
              "    <tr>\n",
              "      <th>2</th>\n",
              "      <td>3984</td>\n",
              "      <td>51621</td>\n",
              "      <td>1101112332635</td>\n",
              "      <td>A01110</td>\n",
              "      <td>농산물 재배 가공 제조 및 유통 판매업 농산물 수입 판매업무역 비료 생산 판매업  ...</td>\n",
              "      <td>A</td>\n",
              "    </tr>\n",
              "    <tr>\n",
              "      <th>3</th>\n",
              "      <td>9282</td>\n",
              "      <td>87208</td>\n",
              "      <td>1101113011452</td>\n",
              "      <td>A01110</td>\n",
              "      <td>농업의경영 관광농원 및 주말농장 설치운영 집단재배 및 공동작업에 관한 사항 농업에 ...</td>\n",
              "      <td>A</td>\n",
              "    </tr>\n",
              "    <tr>\n",
              "      <th>4</th>\n",
              "      <td>19041</td>\n",
              "      <td>161987</td>\n",
              "      <td>1101114182997</td>\n",
              "      <td>A01110</td>\n",
              "      <td>농 수 축산물 생산 농 수 축산물 도 소매업 농 수 축산물 가공 농 수 축산물 수출...</td>\n",
              "      <td>A</td>\n",
              "    </tr>\n",
              "  </tbody>\n",
              "</table>\n",
              "</div>"
            ],
            "text/plain": [
              "       X  ...  Category\n",
              "0     68  ...         A\n",
              "1   2758  ...         A\n",
              "2   3984  ...         A\n",
              "3   9282  ...         A\n",
              "4  19041  ...         A\n",
              "\n",
              "[5 rows x 6 columns]"
            ]
          },
          "metadata": {
            "tags": []
          },
          "execution_count": 26
        }
      ]
    },
    {
      "cell_type": "code",
      "metadata": {
        "id": "geLdLZGh73Bc",
        "colab_type": "code",
        "colab": {
          "base_uri": "https://localhost:8080/",
          "height": 306
        },
        "outputId": "eee40794-d6c1-4dad-8b41-84a39ed2843e"
      },
      "source": [
        "te.head()"
      ],
      "execution_count": 27,
      "outputs": [
        {
          "output_type": "execute_result",
          "data": {
            "text/html": [
              "<div>\n",
              "<style scoped>\n",
              "    .dataframe tbody tr th:only-of-type {\n",
              "        vertical-align: middle;\n",
              "    }\n",
              "\n",
              "    .dataframe tbody tr th {\n",
              "        vertical-align: top;\n",
              "    }\n",
              "\n",
              "    .dataframe thead th {\n",
              "        text-align: right;\n",
              "    }\n",
              "</style>\n",
              "<table border=\"1\" class=\"dataframe\">\n",
              "  <thead>\n",
              "    <tr style=\"text-align: right;\">\n",
              "      <th></th>\n",
              "      <th>X</th>\n",
              "      <th>regist_num</th>\n",
              "      <th>class_code</th>\n",
              "      <th>business_goal</th>\n",
              "      <th>category</th>\n",
              "      <th>Unnamed: 5</th>\n",
              "    </tr>\n",
              "  </thead>\n",
              "  <tbody>\n",
              "    <tr>\n",
              "      <th>0</th>\n",
              "      <td>74201</td>\n",
              "      <td>666824</td>\n",
              "      <td>1612710003908</td>\n",
              "      <td>A01110</td>\n",
              "      <td>집단재배 및 공동작업에 관한 사업 농 축산업에 관련된 공동이용시설의 설치 및 운영 ...</td>\n",
              "      <td>A</td>\n",
              "    </tr>\n",
              "    <tr>\n",
              "      <th>1</th>\n",
              "      <td>74373</td>\n",
              "      <td>668418</td>\n",
              "      <td>1613710005366</td>\n",
              "      <td>A01110</td>\n",
              "      <td>농업경영 농산물 유통사업 및 농산물 수입 수출업 관광농업 농산물 계약 재배 농산물 ...</td>\n",
              "      <td>A</td>\n",
              "    </tr>\n",
              "    <tr>\n",
              "      <th>2</th>\n",
              "      <td>74374</td>\n",
              "      <td>668433</td>\n",
              "      <td>1613710005481</td>\n",
              "      <td>A01110</td>\n",
              "      <td>농업의 경영 및 부대사업 농업에 관련된 공동이용시설의 설치 운영 농산물의 공동출하 ...</td>\n",
              "      <td>A</td>\n",
              "    </tr>\n",
              "    <tr>\n",
              "      <th>3</th>\n",
              "      <td>74545</td>\n",
              "      <td>669878</td>\n",
              "      <td>1614710009879</td>\n",
              "      <td>A01110</td>\n",
              "      <td>친환경 농 축산물의 생산기술 보급과 교류 농 축 특산물 임산물 유통에 관한 조사연구...</td>\n",
              "      <td>A</td>\n",
              "    </tr>\n",
              "    <tr>\n",
              "      <th>4</th>\n",
              "      <td>74546</td>\n",
              "      <td>669891</td>\n",
              "      <td>1614710009952</td>\n",
              "      <td>A01110</td>\n",
              "      <td>집단재배 및 공동작업에 관한 사업 농업에 관련된 공동이용시설의 설치 및 운영 농기계...</td>\n",
              "      <td>A</td>\n",
              "    </tr>\n",
              "  </tbody>\n",
              "</table>\n",
              "</div>"
            ],
            "text/plain": [
              "       X  ...  Unnamed: 5\n",
              "0  74201  ...           A\n",
              "1  74373  ...           A\n",
              "2  74374  ...           A\n",
              "3  74545  ...           A\n",
              "4  74546  ...           A\n",
              "\n",
              "[5 rows x 6 columns]"
            ]
          },
          "metadata": {
            "tags": []
          },
          "execution_count": 27
        }
      ]
    },
    {
      "cell_type": "code",
      "metadata": {
        "id": "kbjznXzHXjYF",
        "colab_type": "code",
        "colab": {
          "base_uri": "https://localhost:8080/",
          "height": 357
        },
        "outputId": "70153aef-ead3-446a-b337-5d4e0f35eca2"
      },
      "source": [
        "# GPU 상태확인\n",
        "!nvidia-smi"
      ],
      "execution_count": 23,
      "outputs": [
        {
          "output_type": "stream",
          "text": [
            "Sun Aug  2 11:27:25 2020       \n",
            "+-----------------------------------------------------------------------------+\n",
            "| NVIDIA-SMI 450.57       Driver Version: 418.67       CUDA Version: 10.1     |\n",
            "|-------------------------------+----------------------+----------------------+\n",
            "| GPU  Name        Persistence-M| Bus-Id        Disp.A | Volatile Uncorr. ECC |\n",
            "| Fan  Temp  Perf  Pwr:Usage/Cap|         Memory-Usage | GPU-Util  Compute M. |\n",
            "|                               |                      |               MIG M. |\n",
            "|===============================+======================+======================|\n",
            "|   0  Tesla T4            Off  | 00000000:00:04.0 Off |                    0 |\n",
            "| N/A   34C    P8     9W /  70W |      0MiB / 15079MiB |      0%      Default |\n",
            "|                               |                      |                 ERR! |\n",
            "+-------------------------------+----------------------+----------------------+\n",
            "                                                                               \n",
            "+-----------------------------------------------------------------------------+\n",
            "| Processes:                                                                  |\n",
            "|  GPU   GI   CI        PID   Type   Process name                  GPU Memory |\n",
            "|        ID   ID                                                   Usage      |\n",
            "|=============================================================================|\n",
            "|  No running processes found                                                 |\n",
            "+-----------------------------------------------------------------------------+\n"
          ],
          "name": "stdout"
        }
      ]
    },
    {
      "cell_type": "code",
      "metadata": {
        "id": "IfyZKLHukBhB",
        "colab_type": "code",
        "colab": {
          "base_uri": "https://localhost:8080/",
          "height": 68
        },
        "outputId": "9f0e8c3e-7312-47a8-b6b0-5bbd3dacdffc"
      },
      "source": [
        "!free -h"
      ],
      "execution_count": 24,
      "outputs": [
        {
          "output_type": "stream",
          "text": [
            "              total        used        free      shared  buff/cache   available\n",
            "Mem:            12G        711M        9.7G        968K        2.3G         11G\n",
            "Swap:            0B          0B          0B\n"
          ],
          "name": "stdout"
        }
      ]
    },
    {
      "cell_type": "code",
      "metadata": {
        "id": "eV1iZzJ2d62b",
        "colab_type": "code",
        "colab": {}
      },
      "source": [
        "# train 전체를 사용하면 램 용량때문에 session down이 일어난다. \n",
        "# 따라서 test데이터만 사용하여 성능을 확인한다. \n",
        "# test데이터의 70%를 train / 나머지를 test로 새로운 데이터를 만든다.  \n",
        "sentences = te['category']\n",
        "#양 끝 공백 제거\n",
        "tr_sentences = [str(sentence.strip()) for sentence in sentences]"
      ],
      "execution_count": 25,
      "outputs": []
    },
    {
      "cell_type": "code",
      "metadata": {
        "id": "V9LnIf9hiEMD",
        "colab_type": "code",
        "colab": {
          "base_uri": "https://localhost:8080/",
          "height": 136
        },
        "outputId": "e6fbcc76-d280-487b-86d5-5004c50307c2"
      },
      "source": [
        "vect = TfidfVectorizer()\n",
        "X = vect.fit_transform(tr_sentences)\n",
        "X.todense()"
      ],
      "execution_count": 28,
      "outputs": [
        {
          "output_type": "execute_result",
          "data": {
            "text/plain": [
              "matrix([[0., 0., 0., ..., 0., 0., 0.],\n",
              "        [0., 0., 0., ..., 0., 0., 0.],\n",
              "        [0., 0., 0., ..., 0., 0., 0.],\n",
              "        ...,\n",
              "        [0., 0., 0., ..., 0., 0., 0.],\n",
              "        [0., 0., 0., ..., 0., 0., 0.],\n",
              "        [0., 0., 0., ..., 0., 0., 0.]])"
            ]
          },
          "metadata": {
            "tags": []
          },
          "execution_count": 28
        }
      ]
    },
    {
      "cell_type": "code",
      "metadata": {
        "id": "pv1U7CT28ICb",
        "colab_type": "code",
        "colab": {}
      },
      "source": [
        "labels = list(te['Unnamed: 5'])\n",
        "uniq_labels = sorted(list(set(labels)))\n",
        "labels_dict = {}\n",
        "for i, e in enumerate(uniq_labels) :\n",
        "  labels_dict[e] = i\n",
        "tr_labels = list((pd.Series(labels)).map(labels_dict))"
      ],
      "execution_count": 29,
      "outputs": []
    },
    {
      "cell_type": "code",
      "metadata": {
        "id": "bjnKXh4m8PHF",
        "colab_type": "code",
        "colab": {}
      },
      "source": [
        "train_inputs, validation_inputs, train_labels, validation_labels = train_test_split(X,\n",
        "                                                                                    tr_labels, \n",
        "                                                                                    random_state=2020, \n",
        "                                                                                  test_size=0.3)\n"
      ],
      "execution_count": 30,
      "outputs": []
    },
    {
      "cell_type": "code",
      "metadata": {
        "id": "kbmP06qU8RIQ",
        "colab_type": "code",
        "colab": {
          "base_uri": "https://localhost:8080/",
          "height": 119
        },
        "outputId": "524bcd81-c863-44dc-dfb9-76c4080a58b9"
      },
      "source": [
        "# 모델 fitting\n",
        "from sklearn.linear_model import SGDClassifier\n",
        "model = SGDClassifier()\n",
        "model.fit(train_inputs, train_labels)\n"
      ],
      "execution_count": 31,
      "outputs": [
        {
          "output_type": "execute_result",
          "data": {
            "text/plain": [
              "SGDClassifier(alpha=0.0001, average=False, class_weight=None,\n",
              "              early_stopping=False, epsilon=0.1, eta0=0.0, fit_intercept=True,\n",
              "              l1_ratio=0.15, learning_rate='optimal', loss='hinge',\n",
              "              max_iter=1000, n_iter_no_change=5, n_jobs=None, penalty='l2',\n",
              "              power_t=0.5, random_state=None, shuffle=True, tol=0.001,\n",
              "              validation_fraction=0.1, verbose=0, warm_start=False)"
            ]
          },
          "metadata": {
            "tags": []
          },
          "execution_count": 31
        }
      ]
    },
    {
      "cell_type": "code",
      "metadata": {
        "id": "aVwTYBrN8UOa",
        "colab_type": "code",
        "colab": {}
      },
      "source": [
        "#RAM 용량 한계로 학습 모델 저장\n",
        "modelname = 'sgd_base_model.sav'\n",
        "pickle.dump(model, open(modelname, 'wb'))\n"
      ],
      "execution_count": 32,
      "outputs": []
    },
    {
      "cell_type": "code",
      "metadata": {
        "id": "4UuaR_eM8WhC",
        "colab_type": "code",
        "colab": {}
      },
      "source": [
        "#model load\n",
        "\n",
        "modelname = 'sgd_base_model.sav'\n",
        "model = pickle.load(open(modelname,'rb'))\n",
        "\n",
        "y_pred = model.predict(validation_inputs)"
      ],
      "execution_count": 33,
      "outputs": []
    },
    {
      "cell_type": "code",
      "metadata": {
        "id": "7TzeMcPM8Zc1",
        "colab_type": "code",
        "colab": {
          "base_uri": "https://localhost:8080/",
          "height": 34
        },
        "outputId": "436c77f1-4162-49a0-dee9-03ac7830ffa4"
      },
      "source": [
        "y_pred.shape"
      ],
      "execution_count": 34,
      "outputs": [
        {
          "output_type": "execute_result",
          "data": {
            "text/plain": [
              "(6374,)"
            ]
          },
          "metadata": {
            "tags": []
          },
          "execution_count": 34
        }
      ]
    },
    {
      "cell_type": "code",
      "metadata": {
        "id": "1mn8ezvc8b3b",
        "colab_type": "code",
        "colab": {
          "base_uri": "https://localhost:8080/",
          "height": 34
        },
        "outputId": "684e4b95-19d1-4434-b5ab-c0ca3a537d43"
      },
      "source": [
        "len(validation_labels)"
      ],
      "execution_count": 36,
      "outputs": [
        {
          "output_type": "execute_result",
          "data": {
            "text/plain": [
              "6374"
            ]
          },
          "metadata": {
            "tags": []
          },
          "execution_count": 36
        }
      ]
    },
    {
      "cell_type": "code",
      "metadata": {
        "id": "19XXv9xE8eKV",
        "colab_type": "code",
        "colab": {}
      },
      "source": [
        "from sklearn.metrics import accuracy_score\n",
        "\n",
        "score = accuracy_score(validation_labels, y_pred)"
      ],
      "execution_count": 37,
      "outputs": []
    },
    {
      "cell_type": "code",
      "metadata": {
        "id": "IrznDXne8iSK",
        "colab_type": "code",
        "colab": {
          "base_uri": "https://localhost:8080/",
          "height": 34
        },
        "outputId": "8b159bb8-c791-4514-c89d-f2e3654009dd"
      },
      "source": [
        "score"
      ],
      "execution_count": 38,
      "outputs": [
        {
          "output_type": "execute_result",
          "data": {
            "text/plain": [
              "0.6545340445560088"
            ]
          },
          "metadata": {
            "tags": []
          },
          "execution_count": 38
        }
      ]
    },
    {
      "cell_type": "code",
      "metadata": {
        "id": "2zV33cMm8jtK",
        "colab_type": "code",
        "colab": {}
      },
      "source": [
        ""
      ],
      "execution_count": null,
      "outputs": []
    }
  ]
}